{
 "cells": [
  {
   "cell_type": "code",
   "execution_count": null,
   "metadata": {
    "collapsed": true,
    "pycharm": {
     "is_executing": false
    }
   },
   "outputs": [],
   "source": [
    "# Dependencies\n",
    "import pandas as pd"
   ]
  },
  {
   "cell_type": "code",
   "execution_count": null,
   "outputs": [],
   "source": [
    "#Config variables\n",
    "\n",
    "#Source tags to be added  as properties in vertex/edge documents\n",
    "## We don't really need these in a small ingest with just one source - \n",
    "## however, some tracking would be nice in a scaled graph system\n",
    "## This isn't perfect by any means -- just an example\n",
    "\n",
    "SOURCE_DATA_TAG = \"stackoverflow:stacksample:2.0\"\n",
    "SOURCE_DATA_URL = \"https://www.kaggle.com/stackoverflow/stacksample\"\n",
    "\n",
    "SOURCE_ANALYSIS_TAG = \"janusgraph:stackoverflow-ingestion:0.1\"\n",
    "SOURCE_ANALYSIS_URL = \"janusgraph:stackoverflow-ingestion:0.1\""
   ],
   "metadata": {
    "collapsed": false,
    "pycharm": {
     "name": "#%% \n"
    }
   }
  },
  {
   "cell_type": "markdown",
   "source": [
    "### Original Data Source\n",
    "[https://www.kaggle.com/stackoverflow/stacksample](https://www.kaggle.com/stackoverflow/stacksample)\n",
    "### Current Tabular Schemas\n",
    "\n",
    "#### Question Table\n",
    "* **Id (PK)**: Question id\n",
    "* **OwnerUserId**: Id of user that posted the question\n",
    "* **CreationDate**: Date of creation\n",
    "* **CloseDate**: Date question was closed (if applicable)\n",
    "* **Score**: Question Score\n",
    "* **Title**: Question title text\n",
    "* **Body**: Question body free text\n",
    "\n",
    "#### Answer Table\n",
    "* **Id (PK)**: Answer id\n",
    "* **OwnerUserId**: Id of user that posted the answer\n",
    "* **CreationDate**: Date of creation\n",
    "* **ParentId (FK)**: Id of the question this answer was posted for\n",
    "* **Score**: Answer Score\n",
    "* **Body**: Answer body free text\n",
    "\n",
    "#### Tag Table\n",
    "* **Id (FK)**: Question id\n",
    "* **Tag**: Tag text string\n",
    "\n",
    "### Target Vertex + Edge Schemas\n",
    "\n",
    "#### User Vertex\n",
    "* **UserId**\n",
    "* **UserName** (Will be faker for now)\n",
    "\n",
    "#### Question Vertex\n",
    "* **Id (PK)**: Question id\n",
    "* **CreationDate**: Date of creation\n",
    "* **CloseDate**: Date question was closed (if applicable)\n",
    "* **Score**: Question Score\n",
    "* **Title**: Question title text\n",
    "* **Body**: Question body free text\n",
    "* **TagList**: List of tags\n",
    "\n",
    "#### Answer Vertex\n",
    "* **Id (PK)**: Answer id\n",
    "* **CreationDate**: Date of creation\n",
    "* **Score**: Answer Score\n",
    "* **Body**: Answer body free text\n",
    "\n",
    "#### UserPostsQuestion Edge\n",
    "(no properties)\n",
    "\n",
    "#### UserPostsAnswer Edge\n",
    "(no properties)\n",
    "\n",
    "#### AnswerForQuestion Edge\n",
    "(no properties)"
   ],
   "metadata": {
    "collapsed": false
   }
  },
  {
   "cell_type": "code",
   "execution_count": null,
   "outputs": [],
   "source": [
    "#Instantiate Vertex and Edge Objects to be used in ingestion\n",
    "vertexIngestDict  = {}\n",
    "\n",
    "vertexIngestDict[\"User\"] = pd.DataFrame(columns=[\n",
    "    \"VertexLabel\",\n",
    "    \"SourceId\", \n",
    "    \"UserName\",\n",
    "    \"VertexCreationDate\",\n",
    "    \"SourceDataTag\",\n",
    "    \"SourceDataUrl\",\n",
    "    \"SourceAnalysisTag\",\n",
    "    \"SourceAnalysisUrl\",\n",
    "]).astype(\n",
    "    {\n",
    "    \"VertexLabel\": \"object\",\n",
    "    \"SourceId\": \"object\", \n",
    "    \"UserName\": \"object\",  \n",
    "    \"SourceDataName\": \"object\"\n",
    "    }\n",
    ")\n",
    "\n",
    "vertexIngestDict[\"Question\"] = pd.DataFrame(columns=[\n",
    "    \"VertexLabel\",\n",
    "    \"SourceId\", \n",
    "    \"CreationDateTime\",\n",
    "    \"CloseDateTime\",\n",
    "    \"PostScore\",\n",
    "    \"QuestionTitle\",\n",
    "    \"PostBody\"\n",
    "]).astype(\n",
    "    {\n",
    "    \"VertexLabel\": \"object\",\n",
    "    \"SourceId\": \"object\", \n",
    "    \"CreationDateTime\": \"datetime64\",\n",
    "    \"CloseDateTime\": \"datetime64\",\n",
    "    \"PostScore\": \"int64\",\n",
    "    \"QuestionTitle\": \"object\",\n",
    "    \"PostBody\": \"object\"        \n",
    "    }\n",
    ")\n",
    "\n",
    "vertexIngestDict[\"Answer\"] = pd.DataFrame(columns=[\n",
    "    \"VertexLabel\",\n",
    "    \"SourceId\", \n",
    "    \"CreationDateTime\",\n",
    "    \"PostScore\",\n",
    "    \"PostBody\"\n",
    "]).astype(\n",
    "    {\n",
    "    \"VertexLabel\": \"object\",\n",
    "    \"SourceId\": \"object\", \n",
    "    \"CreationDateTime\": \"datetime64\",\n",
    "    \"PostScore\": \"int64\",\n",
    "    \"PostBody\": \"object\"        \n",
    "    }\n",
    ")"
   ],
   "metadata": {
    "collapsed": false,
    "pycharm": {
     "name": "#%%\n",
     "is_executing": false
    }
   }
  },
  {
   "cell_type": "code",
   "execution_count": null,
   "outputs": [],
   "source": [
    "#Read Questions\n",
    "questionsTable = pd.read_csv(\"./data/Questions.csv\",encoding = \"ISO-8859-1\");\n",
    "questionsTable"
   ],
   "metadata": {
    "collapsed": false,
    "pycharm": {
     "name": "#%%\n",
     "is_executing": false
    }
   }
  },
  {
   "cell_type": "code",
   "execution_count": null,
   "outputs": [],
   "source": [
    "#extract users"
   ],
   "metadata": {
    "collapsed": false,
    "pycharm": {
     "name": "#%%\n"
    }
   }
  },
  {
   "cell_type": "code",
   "execution_count": null,
   "outputs": [],
   "source": [
    "debugger=1;\n",
    "\n",
    "\n",
    "\n",
    "\n"
   ],
   "metadata": {
    "collapsed": false,
    "pycharm": {
     "name": "#%%\n"
    }
   }
  }
 ],
 "metadata": {
  "kernelspec": {
   "display_name": "Python 3",
   "language": "python",
   "name": "python3"
  },
  "language_info": {
   "codemirror_mode": {
    "name": "ipython",
    "version": 2
   },
   "file_extension": ".py",
   "mimetype": "text/x-python",
   "name": "python",
   "nbconvert_exporter": "python",
   "pygments_lexer": "ipython2",
   "version": "2.7.6"
  },
  "pycharm": {
   "stem_cell": {
    "cell_type": "raw",
    "source": [],
    "metadata": {
     "collapsed": false
    }
   }
  }
 },
 "nbformat": 4,
 "nbformat_minor": 0
}