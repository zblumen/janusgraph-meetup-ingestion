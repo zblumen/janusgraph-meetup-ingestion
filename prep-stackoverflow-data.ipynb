{
 "cells": [
  {
   "cell_type": "code",
   "execution_count": null,
   "metadata": {
    "collapsed": true,
    "pycharm": {
     "is_executing": false
    }
   },
   "outputs": [],
   "source": [
    "# Dependencies\n",
    "import pandas as pd\n",
    "import gremlin_ingest.tracking as gt\n",
    "import stackoverflow_gremlin_ingest as sogi"
   ]
  },
  {
   "cell_type": "markdown",
   "source": [
    "### Original Data Source\n",
    "[https://www.kaggle.com/stackoverflow/stacksample](https://www.kaggle.com/stackoverflow/stacksample)\n",
    "### Current Tabular Schemas\n",
    "\n",
    "#### Question Table\n",
    "* **Id (PK)**: Question id\n",
    "* **OwnerUserId**: Id of user that posted the question\n",
    "* **CreationDate**: Date of creation\n",
    "* **CloseDate**: Date question was closed (if applicable)\n",
    "* **Score**: Question Score\n",
    "* **Title**: Question title text\n",
    "* **Body**: Question body free text\n",
    "\n",
    "#### Answer Table\n",
    "* **Id (PK)**: Answer id\n",
    "* **OwnerUserId**: Id of user that posted the answer\n",
    "* **CreationDate**: Date of creation\n",
    "* **ParentId (FK)**: Id of the question this answer was posted for\n",
    "* **Score**: Answer Score\n",
    "* **Body**: Answer body free text\n",
    "\n",
    "#### Tag Table\n",
    "* **Id (FK)**: Question id\n",
    "* **Tag**: Tag text string\n",
    "\n",
    "### Target Vertex + Edge Schemas\n",
    "\n",
    "#### User Vertex\n",
    "* **UserId**\n",
    "* **UserName** (Will be faker for now)\n",
    "\n",
    "#### Question Vertex\n",
    "* **Id (PK)**: Question id\n",
    "* **CreationDate**: Date of creation\n",
    "* **CloseDate**: Date question was closed (if applicable)\n",
    "* **Score**: Question Score\n",
    "* **Title**: Question title text\n",
    "* **Body**: Question body free text\n",
    "* **TagList**: List of tags\n",
    "\n",
    "#### Answer Vertex\n",
    "* **Id (PK)**: Answer id\n",
    "* **CreationDate**: Date of creation\n",
    "* **Score**: Answer Score\n",
    "* **Body**: Answer body free text\n",
    "\n",
    "#### UserPostsQuestion Edge\n",
    "(no properties)\n",
    "\n",
    "#### UserPostsAnswer Edge\n",
    "(no properties)\n",
    "\n",
    "#### AnswerIsForQuestion Edge\n",
    "(no properties)"
   ],
   "metadata": {
    "collapsed": false
   }
  },
  {
   "cell_type": "code",
   "execution_count": null,
   "outputs": [],
   "source": [
    "#Create Tags for this ingest \n",
    "ingest_tags = sogi.IngestTags(\n",
    "    \"stackoverflow:stacksample:2.0\",\n",
    "    \"https://www.kaggle.com/stackoverflow/stacksample\",\n",
    "    \"janusgraph:stackoverflow-ingestion:0.1\",\n",
    "    \"https://github.com/zblumen/janusgraph-stackoverflow-ingestion/blob/master/prep-stackoverflow-data.ipynb\"\n",
    ")\n",
    "\n",
    "\n"
   ],
   "metadata": {
    "collapsed": false,
    "pycharm": {
     "name": "#%% \n"
    }
   }
  },
  {
   "cell_type": "code",
   "execution_count": null,
   "outputs": [],
   "source": [
    "#Read Questions\n",
    "questionsTable = pd.read_csv(\"./data/Questions.csv\",encoding = \"ISO-8859-1\");\n",
    "questionsTable\n",
    "\n",
    "#Ingest Questions table"
   ],
   "metadata": {
    "collapsed": false,
    "pycharm": {
     "name": "#%%\n",
     "is_executing": true
    }
   }
  },
  {
   "cell_type": "code",
   "execution_count": null,
   "outputs": [],
   "source": [
    "\n",
    "\n",
    "\n",
    "\n",
    "\n",
    "\n"
   ],
   "metadata": {
    "collapsed": false,
    "pycharm": {
     "name": "#%%\n"
    }
   }
  }
 ],
 "metadata": {
  "kernelspec": {
   "display_name": "Python 3",
   "language": "python",
   "name": "python3"
  },
  "language_info": {
   "codemirror_mode": {
    "name": "ipython",
    "version": 2
   },
   "file_extension": ".py",
   "mimetype": "text/x-python",
   "name": "python",
   "nbconvert_exporter": "python",
   "pygments_lexer": "ipython2",
   "version": "2.7.6"
  },
  "pycharm": {
   "stem_cell": {
    "cell_type": "raw",
    "source": [],
    "metadata": {
     "collapsed": false
    }
   }
  }
 },
 "nbformat": 4,
 "nbformat_minor": 0
}